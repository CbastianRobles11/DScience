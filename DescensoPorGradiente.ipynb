{
 "cells": [
  {
   "cell_type": "code",
   "execution_count": 8,
   "id": "formal-signature",
   "metadata": {},
   "outputs": [],
   "source": [
    "import numpy as np\n",
    "import matplotlib.pyplot as plt"
   ]
  },
  {
   "cell_type": "code",
   "execution_count": 9,
   "id": "happy-opinion",
   "metadata": {},
   "outputs": [
    {
     "data": {
      "text/plain": [
       "array([-10.        ,  -9.95991984,  -9.91983968,  -9.87975952,\n",
       "        -9.83967936,  -9.7995992 ,  -9.75951904,  -9.71943888,\n",
       "        -9.67935872,  -9.63927856,  -9.5991984 ,  -9.55911824,\n",
       "        -9.51903808,  -9.47895792,  -9.43887776,  -9.3987976 ,\n",
       "        -9.35871743,  -9.31863727,  -9.27855711,  -9.23847695,\n",
       "        -9.19839679,  -9.15831663,  -9.11823647,  -9.07815631,\n",
       "        -9.03807615,  -8.99799599,  -8.95791583,  -8.91783567,\n",
       "        -8.87775551,  -8.83767535,  -8.79759519,  -8.75751503,\n",
       "        -8.71743487,  -8.67735471,  -8.63727455,  -8.59719439,\n",
       "        -8.55711423,  -8.51703407,  -8.47695391,  -8.43687375,\n",
       "        -8.39679359,  -8.35671343,  -8.31663327,  -8.27655311,\n",
       "        -8.23647295,  -8.19639279,  -8.15631263,  -8.11623246,\n",
       "        -8.0761523 ,  -8.03607214,  -7.99599198,  -7.95591182,\n",
       "        -7.91583166,  -7.8757515 ,  -7.83567134,  -7.79559118,\n",
       "        -7.75551102,  -7.71543086,  -7.6753507 ,  -7.63527054,\n",
       "        -7.59519038,  -7.55511022,  -7.51503006,  -7.4749499 ,\n",
       "        -7.43486974,  -7.39478958,  -7.35470942,  -7.31462926,\n",
       "        -7.2745491 ,  -7.23446894,  -7.19438878,  -7.15430862,\n",
       "        -7.11422846,  -7.0741483 ,  -7.03406814,  -6.99398798,\n",
       "        -6.95390782,  -6.91382766,  -6.87374749,  -6.83366733,\n",
       "        -6.79358717,  -6.75350701,  -6.71342685,  -6.67334669,\n",
       "        -6.63326653,  -6.59318637,  -6.55310621,  -6.51302605,\n",
       "        -6.47294589,  -6.43286573,  -6.39278557,  -6.35270541,\n",
       "        -6.31262525,  -6.27254509,  -6.23246493,  -6.19238477,\n",
       "        -6.15230461,  -6.11222445,  -6.07214429,  -6.03206413,\n",
       "        -5.99198397,  -5.95190381,  -5.91182365,  -5.87174349,\n",
       "        -5.83166333,  -5.79158317,  -5.75150301,  -5.71142285,\n",
       "        -5.67134269,  -5.63126253,  -5.59118236,  -5.5511022 ,\n",
       "        -5.51102204,  -5.47094188,  -5.43086172,  -5.39078156,\n",
       "        -5.3507014 ,  -5.31062124,  -5.27054108,  -5.23046092,\n",
       "        -5.19038076,  -5.1503006 ,  -5.11022044,  -5.07014028,\n",
       "        -5.03006012,  -4.98997996,  -4.9498998 ,  -4.90981964,\n",
       "        -4.86973948,  -4.82965932,  -4.78957916,  -4.749499  ,\n",
       "        -4.70941884,  -4.66933868,  -4.62925852,  -4.58917836,\n",
       "        -4.5490982 ,  -4.50901804,  -4.46893788,  -4.42885772,\n",
       "        -4.38877756,  -4.34869739,  -4.30861723,  -4.26853707,\n",
       "        -4.22845691,  -4.18837675,  -4.14829659,  -4.10821643,\n",
       "        -4.06813627,  -4.02805611,  -3.98797595,  -3.94789579,\n",
       "        -3.90781563,  -3.86773547,  -3.82765531,  -3.78757515,\n",
       "        -3.74749499,  -3.70741483,  -3.66733467,  -3.62725451,\n",
       "        -3.58717435,  -3.54709419,  -3.50701403,  -3.46693387,\n",
       "        -3.42685371,  -3.38677355,  -3.34669339,  -3.30661323,\n",
       "        -3.26653307,  -3.22645291,  -3.18637275,  -3.14629259,\n",
       "        -3.10621242,  -3.06613226,  -3.0260521 ,  -2.98597194,\n",
       "        -2.94589178,  -2.90581162,  -2.86573146,  -2.8256513 ,\n",
       "        -2.78557114,  -2.74549098,  -2.70541082,  -2.66533066,\n",
       "        -2.6252505 ,  -2.58517034,  -2.54509018,  -2.50501002,\n",
       "        -2.46492986,  -2.4248497 ,  -2.38476954,  -2.34468938,\n",
       "        -2.30460922,  -2.26452906,  -2.2244489 ,  -2.18436874,\n",
       "        -2.14428858,  -2.10420842,  -2.06412826,  -2.0240481 ,\n",
       "        -1.98396794,  -1.94388778,  -1.90380762,  -1.86372745,\n",
       "        -1.82364729,  -1.78356713,  -1.74348697,  -1.70340681,\n",
       "        -1.66332665,  -1.62324649,  -1.58316633,  -1.54308617,\n",
       "        -1.50300601,  -1.46292585,  -1.42284569,  -1.38276553,\n",
       "        -1.34268537,  -1.30260521,  -1.26252505,  -1.22244489,\n",
       "        -1.18236473,  -1.14228457,  -1.10220441,  -1.06212425,\n",
       "        -1.02204409,  -0.98196393,  -0.94188377,  -0.90180361,\n",
       "        -0.86172345,  -0.82164329,  -0.78156313,  -0.74148297,\n",
       "        -0.70140281,  -0.66132265,  -0.62124248,  -0.58116232,\n",
       "        -0.54108216,  -0.501002  ,  -0.46092184,  -0.42084168,\n",
       "        -0.38076152,  -0.34068136,  -0.3006012 ,  -0.26052104,\n",
       "        -0.22044088,  -0.18036072,  -0.14028056,  -0.1002004 ,\n",
       "        -0.06012024,  -0.02004008,   0.02004008,   0.06012024,\n",
       "         0.1002004 ,   0.14028056,   0.18036072,   0.22044088,\n",
       "         0.26052104,   0.3006012 ,   0.34068136,   0.38076152,\n",
       "         0.42084168,   0.46092184,   0.501002  ,   0.54108216,\n",
       "         0.58116232,   0.62124248,   0.66132265,   0.70140281,\n",
       "         0.74148297,   0.78156313,   0.82164329,   0.86172345,\n",
       "         0.90180361,   0.94188377,   0.98196393,   1.02204409,\n",
       "         1.06212425,   1.10220441,   1.14228457,   1.18236473,\n",
       "         1.22244489,   1.26252505,   1.30260521,   1.34268537,\n",
       "         1.38276553,   1.42284569,   1.46292585,   1.50300601,\n",
       "         1.54308617,   1.58316633,   1.62324649,   1.66332665,\n",
       "         1.70340681,   1.74348697,   1.78356713,   1.82364729,\n",
       "         1.86372745,   1.90380762,   1.94388778,   1.98396794,\n",
       "         2.0240481 ,   2.06412826,   2.10420842,   2.14428858,\n",
       "         2.18436874,   2.2244489 ,   2.26452906,   2.30460922,\n",
       "         2.34468938,   2.38476954,   2.4248497 ,   2.46492986,\n",
       "         2.50501002,   2.54509018,   2.58517034,   2.6252505 ,\n",
       "         2.66533066,   2.70541082,   2.74549098,   2.78557114,\n",
       "         2.8256513 ,   2.86573146,   2.90581162,   2.94589178,\n",
       "         2.98597194,   3.0260521 ,   3.06613226,   3.10621242,\n",
       "         3.14629259,   3.18637275,   3.22645291,   3.26653307,\n",
       "         3.30661323,   3.34669339,   3.38677355,   3.42685371,\n",
       "         3.46693387,   3.50701403,   3.54709419,   3.58717435,\n",
       "         3.62725451,   3.66733467,   3.70741483,   3.74749499,\n",
       "         3.78757515,   3.82765531,   3.86773547,   3.90781563,\n",
       "         3.94789579,   3.98797595,   4.02805611,   4.06813627,\n",
       "         4.10821643,   4.14829659,   4.18837675,   4.22845691,\n",
       "         4.26853707,   4.30861723,   4.34869739,   4.38877756,\n",
       "         4.42885772,   4.46893788,   4.50901804,   4.5490982 ,\n",
       "         4.58917836,   4.62925852,   4.66933868,   4.70941884,\n",
       "         4.749499  ,   4.78957916,   4.82965932,   4.86973948,\n",
       "         4.90981964,   4.9498998 ,   4.98997996,   5.03006012,\n",
       "         5.07014028,   5.11022044,   5.1503006 ,   5.19038076,\n",
       "         5.23046092,   5.27054108,   5.31062124,   5.3507014 ,\n",
       "         5.39078156,   5.43086172,   5.47094188,   5.51102204,\n",
       "         5.5511022 ,   5.59118236,   5.63126253,   5.67134269,\n",
       "         5.71142285,   5.75150301,   5.79158317,   5.83166333,\n",
       "         5.87174349,   5.91182365,   5.95190381,   5.99198397,\n",
       "         6.03206413,   6.07214429,   6.11222445,   6.15230461,\n",
       "         6.19238477,   6.23246493,   6.27254509,   6.31262525,\n",
       "         6.35270541,   6.39278557,   6.43286573,   6.47294589,\n",
       "         6.51302605,   6.55310621,   6.59318637,   6.63326653,\n",
       "         6.67334669,   6.71342685,   6.75350701,   6.79358717,\n",
       "         6.83366733,   6.87374749,   6.91382766,   6.95390782,\n",
       "         6.99398798,   7.03406814,   7.0741483 ,   7.11422846,\n",
       "         7.15430862,   7.19438878,   7.23446894,   7.2745491 ,\n",
       "         7.31462926,   7.35470942,   7.39478958,   7.43486974,\n",
       "         7.4749499 ,   7.51503006,   7.55511022,   7.59519038,\n",
       "         7.63527054,   7.6753507 ,   7.71543086,   7.75551102,\n",
       "         7.79559118,   7.83567134,   7.8757515 ,   7.91583166,\n",
       "         7.95591182,   7.99599198,   8.03607214,   8.0761523 ,\n",
       "         8.11623246,   8.15631263,   8.19639279,   8.23647295,\n",
       "         8.27655311,   8.31663327,   8.35671343,   8.39679359,\n",
       "         8.43687375,   8.47695391,   8.51703407,   8.55711423,\n",
       "         8.59719439,   8.63727455,   8.67735471,   8.71743487,\n",
       "         8.75751503,   8.79759519,   8.83767535,   8.87775551,\n",
       "         8.91783567,   8.95791583,   8.99799599,   9.03807615,\n",
       "         9.07815631,   9.11823647,   9.15831663,   9.19839679,\n",
       "         9.23847695,   9.27855711,   9.31863727,   9.35871743,\n",
       "         9.3987976 ,   9.43887776,   9.47895792,   9.51903808,\n",
       "         9.55911824,   9.5991984 ,   9.63927856,   9.67935872,\n",
       "         9.71943888,   9.75951904,   9.7995992 ,   9.83967936,\n",
       "         9.87975952,   9.91983968,   9.95991984,  10.        ])"
      ]
     },
     "execution_count": 9,
     "metadata": {},
     "output_type": "execute_result"
    }
   ],
   "source": [
    "## Creamos la funcion a optimizar\n",
    "\n",
    "## funcion anonima da x y recibe x al cuadrado\n",
    "function= lambda x:x**2\n",
    "\n",
    "#creamos un array de 500 val \n",
    "x= np.linspace(-10,10,500)\n",
    "x"
   ]
  },
  {
   "cell_type": "code",
   "execution_count": 10,
   "id": "ecological-hours",
   "metadata": {},
   "outputs": [
    {
     "data": {
      "text/plain": [
       "<function matplotlib.pyplot.show(close=None, block=None)>"
      ]
     },
     "execution_count": 10,
     "metadata": {},
     "output_type": "execute_result"
    },
    {
     "data": {
      "image/png": "[encoded data removed]",
      "text/plain": [
       "<Figure size 432x288 with 1 Axes>"
      ]
     },
     "metadata": {
      "needs_background": "light"
     },
     "output_type": "display_data"
    }
   ],
   "source": [
    "plt.plot(x, function(x))\n",
    "plt.show"
   ]
  },
  {
   "cell_type": "code",
   "execution_count": 22,
   "id": "unavailable-rhythm",
   "metadata": {},
   "outputs": [],
   "source": [
    "## Creamos la funcion de la derivada de x\n",
    "\n",
    "def derivada(x):\n",
    "    #la derivada de x al 2 es 2x\n",
    "    x_deriv= 2*x\n",
    "    return x_deriv\n",
    "\n",
    "##Creamos la funcion del gradiente\n",
    "\n",
    "def gradiente(x_start,presicion, learning_right):\n",
    "    \n",
    "    #creamos 2 listas \n",
    "    x_list,y_list= [x_start],[function(x_start)]\n",
    "    \n",
    "    ## un bucle while\n",
    "    while True:\n",
    "        \n",
    "        ##pendiente de la derivada\n",
    "        d_x=-derivada(x_start)\n",
    "        \n",
    "        ## obtne el nuevo valor de x sumando el previo x + (learning_reight * derivada)\n",
    "        x_start+=(learning_right*d_x)\n",
    "        \n",
    "        ##agregamos el valor de x a la lista para visualizarlo\n",
    "        x_list.append(x_start)\n",
    "        \n",
    "        #agregamos el nuevo valor de y a la lista\n",
    "        y_list.append( function(x_start) )\n",
    "        \n",
    "        #salir del bucle while\n",
    "        if abs(x_list[-1]- x_list[-2])<= presicion:\n",
    "            break\n",
    "\n",
    "    print(\"El minimo local se produce en : \"+ str(x_start))\n",
    "    print(\"Numero de passo : \"+ str(len(x_list)))\n",
    "          \n",
    "    plt.subplot(1,2,2)\n",
    "    plt.scatter(x_list , y_list, color=\"green\")\n",
    "    plt.plot(x_list,y_list,color=\"green\")\n",
    "    plt.plot(x, function(x),color=\"red\")\n",
    "    plt.title(\"Descenso de Gradiente\")\n",
    "    plt.show()"
   ]
  },
  {
   "cell_type": "code",
   "execution_count": 40,
   "id": "automotive-stocks",
   "metadata": {},
   "outputs": [
    {
     "name": "stdout",
     "output_type": "stream",
     "text": [
      "El minimo local se produce en : -0.00019683000000000021\n",
      "Numero de passo : 10\n"
     ]
    },
    {
     "data": {
      "image/png": "[encoded data removed]",
      "text/plain": [
       "<Figure size 432x288 with 1 Axes>"
      ]
     },
     "metadata": {
      "needs_background": "light"
     },
     "output_type": "display_data"
    }
   ],
   "source": [
    "gradiente(-10,0.001,0.35)"
   ]
  },
  {
   "cell_type": "code",
   "execution_count": null,
   "id": "single-digest",
   "metadata": {},
   "outputs": [],
   "source": []
  }
 ],
 "metadata": {
  "kernelspec": {
   "display_name": "Python 3",
   "language": "python",
   "name": "python3"
  },
  "language_info": {
   "codemirror_mode": {
    "name": "ipython",
    "version": 3
   },
   "file_extension": ".py",
   "mimetype": "text/x-python",
   "name": "python",
   "nbconvert_exporter": "python",
   "pygments_lexer": "ipython3",
   "version": "3.8.5"
  },
  "toc": {
   "base_numbering": 1,
   "nav_menu": {},
   "number_sections": true,
   "sideBar": true,
   "skip_h1_title": false,
   "title_cell": "Table of Contents",
   "title_sidebar": "Contents",
   "toc_cell": false,
   "toc_position": {},
   "toc_section_display": true,
   "toc_window_display": false
  },
  "varInspector": {
   "cols": {
    "lenName": 16,
    "lenType": 16,
    "lenVar": 40
   },
   "kernels_config": {
    "python": {
     "delete_cmd_postfix": "",
     "delete_cmd_prefix": "del ",
     "library": "var_list.py",
     "varRefreshCmd": "print(var_dic_list())"
    },
    "r": {
     "delete_cmd_postfix": ") ",
     "delete_cmd_prefix": "rm(",
     "library": "var_list.r",
     "varRefreshCmd": "cat(var_dic_list()) "
    }
   },
   "types_to_exclude": [
    "module",
    "function",
    "builtin_function_or_method",
    "instance",
    "_Feature"
   ],
   "window_display": false
  }
 },
 "nbformat": 4,
 "nbformat_minor": 5
}
